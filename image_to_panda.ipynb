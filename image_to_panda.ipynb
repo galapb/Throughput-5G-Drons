{
 "cells": [
  {
   "cell_type": "code",
   "execution_count": 1,
   "metadata": {},
   "outputs": [
    {
     "name": "stdout",
     "output_type": "stream",
     "text": [
      "openCV version -  4\n"
     ]
    }
   ],
   "source": [
    "import numpy as np\n",
    "import sys\n",
    "import cv2\n",
    "import pandas as pd \n",
    "from matplotlib import pyplot as plt\n",
    "(CV2_VERSION, minor_ver, subminor_ver) = (cv2.__version__).split('.')\n",
    "print('openCV version - ', CV2_VERSION)"
   ]
  },
  {
   "cell_type": "code",
   "execution_count": 2,
   "metadata": {},
   "outputs": [],
   "source": [
    "CSV_NAME = 'list.csv'\n",
    "# out images will have dimesions of (width, height)\n",
    "w = 300 \n",
    "h = 300\n",
    "DIM = (w, h)"
   ]
  },
  {
   "cell_type": "markdown",
   "metadata": {},
   "source": [
    "###### Cap Functions"
   ]
  },
  {
   "cell_type": "code",
   "execution_count": 3,
   "metadata": {},
   "outputs": [],
   "source": [
    "def open_video(video):\n",
    "    return cv2.VideoCapture(video)\n",
    "\n",
    "def check_video(cap):\n",
    "    success, frame = cap.read()\n",
    "    if success == False:\n",
    "        print(\"Video doesn't exit\")\n",
    "        exit(1)\n",
    "\n",
    "def close_cap(cap):\n",
    "    cap.release()\n",
    "    #cv2.destroyAllWindows() #Close viewing of frames"
   ]
  },
  {
   "cell_type": "markdown",
   "metadata": {},
   "source": [
    "##### Generic functions"
   ]
  },
  {
   "cell_type": "code",
   "execution_count": 4,
   "metadata": {},
   "outputs": [],
   "source": [
    "def getFrameRate(video):\n",
    "    fps = 30 # default frame rate - this values should be replace in the next if/else evaluation\n",
    "    if int(CV2_VERSION)  < 3 :\n",
    "        fps = video.get(cv2.cv.CV_CAP_PROP_FPS)\n",
    "    else :\n",
    "        fps = video.get(cv2.CAP_PROP_FPS)\n",
    "    return fps\n",
    "\n",
    "# start is in mili seconds\n",
    "# curr is in seconds\n",
    "# end is in mili seconds or is the word 'END'\n",
    "def between(start,curr,end):\n",
    "    \n",
    "    if end == 'END':\n",
    "        nend = 86400000.0 # BIGINT Number, represents 1 day... in python 3 there is no INT Max, in pyhton 2 it is 9223372036854775807, \n",
    "    else:\n",
    "        nend = float(end)\n",
    "        \n",
    "    start_ms = start / 1000\n",
    "    end_ms = nend / 1000\n",
    "    \n",
    "    return start_ms <= curr <= end_ms\n",
    "\n",
    "def generate_out_videoname(vid):\n",
    "    \n",
    "    # check if the Video name is already formated\n",
    "    if \"video-\" in vid:\n",
    "        return vid.split('.')[0]\n",
    "    \n",
    "    out_video = 'video-00001' # default video name\n",
    "    \n",
    "    try:\n",
    "        collision_number = vid.split('.')[0]\n",
    "        numb = collision_number.split('collision')[1]\n",
    "        s_numb = str(numb)\n",
    "        while len(s_numb) < 5:\n",
    "            s_numb = '0' + s_numb\n",
    "        return f\"video-{s_numb}\"\n",
    "    except:\n",
    "        print(f\"Exception generating new video name; returning name {out_video}\")\n",
    "        return out_video\n",
    "    \n",
    "def generate_framename(video_num,pos_frame):\n",
    "    \n",
    "    s_outvid = str(video_num)\n",
    "    s_frame = str(pos_frame)\n",
    "    \n",
    "    while len(s_outvid) < 5:\n",
    "        s_outvid = '0' + s_outvid\n",
    "        \n",
    "    while len(s_frame) < 5:\n",
    "        s_frame = '0' + s_frame\n",
    "    \n",
    "    return f\"video-{s_outvid}-frame-{s_frame}\"\n",
    "\n",
    "def generate_video_num(out_videoname):\n",
    "    return int(out_videoname.split('-')[1])\n",
    "\n"
   ]
  },
  {
   "cell_type": "markdown",
   "metadata": {},
   "source": [
    "##### CSV functions\n",
    "Inside the list.csv each row represent a video that you will want to write a vector\n",
    "Example of a line inside of list.csv: \"video.avi start_time(ms) end_time(ms) vector\"\n",
    "Multiple times can be added in the form of \"video.avi start_time1(ms) end_time1(ms) vector1 start_time2(ms) end_time2(ms) vector2\""
   ]
  },
  {
   "cell_type": "code",
   "execution_count": 5,
   "metadata": {},
   "outputs": [
    {
     "data": {
      "text/html": [
       "<div>\n",
       "<style scoped>\n",
       "    .dataframe tbody tr th:only-of-type {\n",
       "        vertical-align: middle;\n",
       "    }\n",
       "\n",
       "    .dataframe tbody tr th {\n",
       "        vertical-align: top;\n",
       "    }\n",
       "\n",
       "    .dataframe thead th {\n",
       "        text-align: right;\n",
       "    }\n",
       "</style>\n",
       "<table border=\"1\" class=\"dataframe\">\n",
       "  <thead>\n",
       "    <tr style=\"text-align: right;\">\n",
       "      <th></th>\n",
       "      <th>0</th>\n",
       "      <th>1</th>\n",
       "      <th>2</th>\n",
       "      <th>3</th>\n",
       "    </tr>\n",
       "  </thead>\n",
       "  <tbody>\n",
       "    <tr>\n",
       "      <th>0</th>\n",
       "      <td>collision93.mp4</td>\n",
       "      <td>8000</td>\n",
       "      <td>END</td>\n",
       "      <td>1 0 0 0 0 1</td>\n",
       "    </tr>\n",
       "  </tbody>\n",
       "</table>\n",
       "</div>"
      ],
      "text/plain": [
       "                 0     1    2            3\n",
       "0  collision93.mp4  8000  END  1 0 0 0 0 1"
      ]
     },
     "execution_count": 5,
     "metadata": {},
     "output_type": "execute_result"
    }
   ],
   "source": [
    "# Read data from file 'filename.csv' \n",
    "# (in the same directory that your python process is based)\n",
    "# Control delimiters, rows, column names with read_csv (see later) \n",
    "# header=None means no header is to be considered\n",
    "# Format => video.avi start_time1(ms) end_time1(ms) vector1 start_time2(ms) end_time2(ms) vector2 (...n)\n",
    "video_vector_list = pd.read_csv(CSV_NAME,header=None) \n",
    "# Preview the first 5 lines of the loaded data\n",
    "video_vector_list.head()"
   ]
  },
  {
   "cell_type": "code",
   "execution_count": 26,
   "metadata": {},
   "outputs": [
    {
     "name": "stdout",
     "output_type": "stream",
     "text": [
      "collision93.mp4\n",
      "[8000]\n",
      "['END']\n",
      "['1 0 0 0 0 1']\n"
     ]
    }
   ],
   "source": [
    "VIDEO_NAME = 'C:/Users/jesus/OneDrive/Escritorio/NOTES/TFG/collision_generate_dataset/multimedia/collision93.mp4'\n",
    "start_times = []\n",
    "end_times = []\n",
    "escape_vectors = []\n",
    "for index, row in video_vector_list.iterrows():\n",
    "    VIDEO_NAME = row[0]\n",
    "    \n",
    "    # iterate the START END VECTOR\n",
    "    n_blocks = int((len(row) - 1 ) / 3)  # length of rows, minus the first (video_name), divided by 3 (START, END, VECTOR)    \n",
    "    for i in range(n_blocks):\n",
    "        offset = (i + 1) * 3 - 2\n",
    "        start_times.append(row[offset])\n",
    "        end_times.append(row[offset + 1])\n",
    "        escape_vectors.append(row[offset + 2])\n",
    "        \n",
    "    print(VIDEO_NAME)\n",
    "    print(start_times)\n",
    "    print(end_times)\n",
    "    print(escape_vectors)\n",
    "        \n",
    "    "
   ]
  },
  {
   "cell_type": "markdown",
   "metadata": {},
   "source": [
    "##### Handle video"
   ]
  },
  {
   "cell_type": "code",
   "execution_count": 27,
   "metadata": {},
   "outputs": [
    {
     "name": "stdout",
     "output_type": "stream",
     "text": [
      "Wait for the header\n",
      "Wait for the header\n",
      "Wait for the header\n",
      "Wait for the header\n",
      "Wait for the header\n",
      "Wait for the header\n",
      "Wait for the header\n",
      "Wait for the header\n",
      "Wait for the header\n",
      "Wait for the header\n",
      "Wait for the header\n",
      "Wait for the header\n",
      "Wait for the header\n",
      "Wait for the header\n",
      "Wait for the header\n",
      "Wait for the header\n",
      "Wait for the header\n",
      "Wait for the header\n",
      "Wait for the header\n",
      "Wait for the header\n",
      "Wait for the header\n",
      "Wait for the header\n",
      "Wait for the header\n",
      "Wait for the header\n",
      "Wait for the header\n",
      "Wait for the header\n",
      "Wait for the header\n",
      "Wait for the header\n",
      "Wait for the header\n",
      "Wait for the header\n",
      "Wait for the header\n",
      "Wait for the header\n"
     ]
    },
    {
     "ename": "KeyboardInterrupt",
     "evalue": "",
     "output_type": "error",
     "traceback": [
      "\u001b[1;31m---------------------------------------------------------------------------\u001b[0m",
      "\u001b[1;31mKeyboardInterrupt\u001b[0m                         Traceback (most recent call last)",
      "\u001b[1;32mc:\\Users\\jesus\\OneDrive\\Escritorio\\NOTES\\TFG\\collision_generate_dataset\\image_to_panda.ipynb Cell 11\u001b[0m line \u001b[0;36m4\n\u001b[0;32m      <a href='vscode-notebook-cell:/c%3A/Users/jesus/OneDrive/Escritorio/NOTES/TFG/collision_generate_dataset/image_to_panda.ipynb#X14sZmlsZQ%3D%3D?line=1'>2</a>\u001b[0m \u001b[39mwhile\u001b[39;00m \u001b[39mnot\u001b[39;00m video\u001b[39m.\u001b[39misOpened():\n\u001b[0;32m      <a href='vscode-notebook-cell:/c%3A/Users/jesus/OneDrive/Escritorio/NOTES/TFG/collision_generate_dataset/image_to_panda.ipynb#X14sZmlsZQ%3D%3D?line=2'>3</a>\u001b[0m     video \u001b[39m=\u001b[39m cv2\u001b[39m.\u001b[39mVideoCapture(VIDEO_NAME)\n\u001b[1;32m----> <a href='vscode-notebook-cell:/c%3A/Users/jesus/OneDrive/Escritorio/NOTES/TFG/collision_generate_dataset/image_to_panda.ipynb#X14sZmlsZQ%3D%3D?line=3'>4</a>\u001b[0m     cv2\u001b[39m.\u001b[39;49mwaitKey(\u001b[39m1000\u001b[39;49m)\n\u001b[0;32m      <a href='vscode-notebook-cell:/c%3A/Users/jesus/OneDrive/Escritorio/NOTES/TFG/collision_generate_dataset/image_to_panda.ipynb#X14sZmlsZQ%3D%3D?line=4'>5</a>\u001b[0m     \u001b[39mprint\u001b[39m(\u001b[39m\"\u001b[39m\u001b[39mWait for the header\u001b[39m\u001b[39m\"\u001b[39m)\n",
      "\u001b[1;31mKeyboardInterrupt\u001b[0m: "
     ]
    }
   ],
   "source": [
    "video = open_video(VIDEO_NAME)\n",
    "while not video.isOpened():\n",
    "    video = cv2.VideoCapture(VIDEO_NAME)\n",
    "    cv2.waitKey(1000)\n",
    "    print(\"Wait for the header\")"
   ]
  },
  {
   "cell_type": "code",
   "execution_count": 24,
   "metadata": {},
   "outputs": [
    {
     "name": "stdout",
     "output_type": "stream",
     "text": [
      "Processing video \"collision93.mp4\" that is 0.0 fps\n",
      "frame is not ready, counter is at 1\n"
     ]
    },
    {
     "ename": "ModuleNotFoundError",
     "evalue": "No module named 'openpyxl'",
     "output_type": "error",
     "traceback": [
      "\u001b[1;31m---------------------------------------------------------------------------\u001b[0m",
      "\u001b[1;31mModuleNotFoundError\u001b[0m                       Traceback (most recent call last)",
      "\u001b[1;32mc:\\Users\\jesus\\OneDrive\\Escritorio\\NOTES\\TFG\\collision_generate_dataset\\image_to_panda.ipynb Cell 12\u001b[0m line \u001b[0;36m1\n\u001b[0;32m    <a href='vscode-notebook-cell:/c%3A/Users/jesus/OneDrive/Escritorio/NOTES/TFG/collision_generate_dataset/image_to_panda.ipynb#X15sZmlsZQ%3D%3D?line=103'>104</a>\u001b[0m \u001b[39m# dropping duplicate values \u001b[39;00m\n\u001b[0;32m    <a href='vscode-notebook-cell:/c%3A/Users/jesus/OneDrive/Escritorio/NOTES/TFG/collision_generate_dataset/image_to_panda.ipynb#X15sZmlsZQ%3D%3D?line=104'>105</a>\u001b[0m df\u001b[39m.\u001b[39mdrop_duplicates(keep\u001b[39m=\u001b[39m\u001b[39m'\u001b[39m\u001b[39mfirst\u001b[39m\u001b[39m'\u001b[39m,inplace\u001b[39m=\u001b[39m\u001b[39mTrue\u001b[39;00m)\n\u001b[1;32m--> <a href='vscode-notebook-cell:/c%3A/Users/jesus/OneDrive/Escritorio/NOTES/TFG/collision_generate_dataset/image_to_panda.ipynb#X15sZmlsZQ%3D%3D?line=105'>106</a>\u001b[0m df\u001b[39m.\u001b[39;49mto_excel(\u001b[39mf\u001b[39;49m\u001b[39m'\u001b[39;49m\u001b[39mdataframes/\u001b[39;49m\u001b[39m{\u001b[39;49;00mout_videoname\u001b[39m}\u001b[39;49;00m\u001b[39m.xlsx\u001b[39;49m\u001b[39m'\u001b[39;49m,index\u001b[39m=\u001b[39;49m\u001b[39mFalse\u001b[39;49;00m)  \n",
      "File \u001b[1;32mc:\\ProgramData\\Anaconda3\\envs\\tensorflou\\lib\\site-packages\\pandas\\util\\_decorators.py:333\u001b[0m, in \u001b[0;36mdeprecate_nonkeyword_arguments.<locals>.decorate.<locals>.wrapper\u001b[1;34m(*args, **kwargs)\u001b[0m\n\u001b[0;32m    327\u001b[0m \u001b[39mif\u001b[39;00m \u001b[39mlen\u001b[39m(args) \u001b[39m>\u001b[39m num_allow_args:\n\u001b[0;32m    328\u001b[0m     warnings\u001b[39m.\u001b[39mwarn(\n\u001b[0;32m    329\u001b[0m         msg\u001b[39m.\u001b[39mformat(arguments\u001b[39m=\u001b[39m_format_argument_list(allow_args)),\n\u001b[0;32m    330\u001b[0m         \u001b[39mFutureWarning\u001b[39;00m,\n\u001b[0;32m    331\u001b[0m         stacklevel\u001b[39m=\u001b[39mfind_stack_level(),\n\u001b[0;32m    332\u001b[0m     )\n\u001b[1;32m--> 333\u001b[0m \u001b[39mreturn\u001b[39;00m func(\u001b[39m*\u001b[39margs, \u001b[39m*\u001b[39m\u001b[39m*\u001b[39mkwargs)\n",
      "File \u001b[1;32mc:\\ProgramData\\Anaconda3\\envs\\tensorflou\\lib\\site-packages\\pandas\\core\\generic.py:2417\u001b[0m, in \u001b[0;36mNDFrame.to_excel\u001b[1;34m(self, excel_writer, sheet_name, na_rep, float_format, columns, header, index, index_label, startrow, startcol, engine, merge_cells, inf_rep, freeze_panes, storage_options, engine_kwargs)\u001b[0m\n\u001b[0;32m   2404\u001b[0m \u001b[39mfrom\u001b[39;00m \u001b[39mpandas\u001b[39;00m\u001b[39m.\u001b[39;00m\u001b[39mio\u001b[39;00m\u001b[39m.\u001b[39;00m\u001b[39mformats\u001b[39;00m\u001b[39m.\u001b[39;00m\u001b[39mexcel\u001b[39;00m \u001b[39mimport\u001b[39;00m ExcelFormatter\n\u001b[0;32m   2406\u001b[0m formatter \u001b[39m=\u001b[39m ExcelFormatter(\n\u001b[0;32m   2407\u001b[0m     df,\n\u001b[0;32m   2408\u001b[0m     na_rep\u001b[39m=\u001b[39mna_rep,\n\u001b[1;32m   (...)\u001b[0m\n\u001b[0;32m   2415\u001b[0m     inf_rep\u001b[39m=\u001b[39minf_rep,\n\u001b[0;32m   2416\u001b[0m )\n\u001b[1;32m-> 2417\u001b[0m formatter\u001b[39m.\u001b[39;49mwrite(\n\u001b[0;32m   2418\u001b[0m     excel_writer,\n\u001b[0;32m   2419\u001b[0m     sheet_name\u001b[39m=\u001b[39;49msheet_name,\n\u001b[0;32m   2420\u001b[0m     startrow\u001b[39m=\u001b[39;49mstartrow,\n\u001b[0;32m   2421\u001b[0m     startcol\u001b[39m=\u001b[39;49mstartcol,\n\u001b[0;32m   2422\u001b[0m     freeze_panes\u001b[39m=\u001b[39;49mfreeze_panes,\n\u001b[0;32m   2423\u001b[0m     engine\u001b[39m=\u001b[39;49mengine,\n\u001b[0;32m   2424\u001b[0m     storage_options\u001b[39m=\u001b[39;49mstorage_options,\n\u001b[0;32m   2425\u001b[0m     engine_kwargs\u001b[39m=\u001b[39;49mengine_kwargs,\n\u001b[0;32m   2426\u001b[0m )\n",
      "File \u001b[1;32mc:\\ProgramData\\Anaconda3\\envs\\tensorflou\\lib\\site-packages\\pandas\\io\\formats\\excel.py:943\u001b[0m, in \u001b[0;36mExcelFormatter.write\u001b[1;34m(self, writer, sheet_name, startrow, startcol, freeze_panes, engine, storage_options, engine_kwargs)\u001b[0m\n\u001b[0;32m    941\u001b[0m     need_save \u001b[39m=\u001b[39m \u001b[39mFalse\u001b[39;00m\n\u001b[0;32m    942\u001b[0m \u001b[39melse\u001b[39;00m:\n\u001b[1;32m--> 943\u001b[0m     writer \u001b[39m=\u001b[39m ExcelWriter(\n\u001b[0;32m    944\u001b[0m         writer,\n\u001b[0;32m    945\u001b[0m         engine\u001b[39m=\u001b[39;49mengine,\n\u001b[0;32m    946\u001b[0m         storage_options\u001b[39m=\u001b[39;49mstorage_options,\n\u001b[0;32m    947\u001b[0m         engine_kwargs\u001b[39m=\u001b[39;49mengine_kwargs,\n\u001b[0;32m    948\u001b[0m     )\n\u001b[0;32m    949\u001b[0m     need_save \u001b[39m=\u001b[39m \u001b[39mTrue\u001b[39;00m\n\u001b[0;32m    951\u001b[0m \u001b[39mtry\u001b[39;00m:\n",
      "File \u001b[1;32mc:\\ProgramData\\Anaconda3\\envs\\tensorflou\\lib\\site-packages\\pandas\\io\\excel\\_openpyxl.py:57\u001b[0m, in \u001b[0;36mOpenpyxlWriter.__init__\u001b[1;34m(self, path, engine, date_format, datetime_format, mode, storage_options, if_sheet_exists, engine_kwargs, **kwargs)\u001b[0m\n\u001b[0;32m     44\u001b[0m \u001b[39mdef\u001b[39;00m \u001b[39m__init__\u001b[39m(\n\u001b[0;32m     45\u001b[0m     \u001b[39mself\u001b[39m,\n\u001b[0;32m     46\u001b[0m     path: FilePath \u001b[39m|\u001b[39m WriteExcelBuffer \u001b[39m|\u001b[39m ExcelWriter,\n\u001b[1;32m   (...)\u001b[0m\n\u001b[0;32m     55\u001b[0m ) \u001b[39m-\u001b[39m\u001b[39m>\u001b[39m \u001b[39mNone\u001b[39;00m:\n\u001b[0;32m     56\u001b[0m     \u001b[39m# Use the openpyxl module as the Excel writer.\u001b[39;00m\n\u001b[1;32m---> 57\u001b[0m     \u001b[39mfrom\u001b[39;00m \u001b[39mopenpyxl\u001b[39;00m\u001b[39m.\u001b[39;00m\u001b[39mworkbook\u001b[39;00m \u001b[39mimport\u001b[39;00m Workbook\n\u001b[0;32m     59\u001b[0m     engine_kwargs \u001b[39m=\u001b[39m combine_kwargs(engine_kwargs, kwargs)\n\u001b[0;32m     61\u001b[0m     \u001b[39msuper\u001b[39m()\u001b[39m.\u001b[39m\u001b[39m__init__\u001b[39m(\n\u001b[0;32m     62\u001b[0m         path,\n\u001b[0;32m     63\u001b[0m         mode\u001b[39m=\u001b[39mmode,\n\u001b[1;32m   (...)\u001b[0m\n\u001b[0;32m     66\u001b[0m         engine_kwargs\u001b[39m=\u001b[39mengine_kwargs,\n\u001b[0;32m     67\u001b[0m     )\n",
      "\u001b[1;31mModuleNotFoundError\u001b[0m: No module named 'openpyxl'"
     ]
    }
   ],
   "source": [
    "pos_frame = video.get(cv2.CAP_PROP_POS_FRAMES) # get first frame counter\n",
    "fps = getFrameRate(video) # get frame rate\n",
    "fps = round(fps, 2) # round to 2 decimal places;\n",
    "stop_loop_by_not_ready = 0\n",
    "MAX_STOP_LOOP_COUNTER = 5\n",
    "last_pos_frame = 0 # pos frame counter. used to compare with previous \n",
    "out_videoname = generate_out_videoname(VIDEO_NAME)\n",
    "video_number = generate_video_num(out_videoname)\n",
    "consecutive_counter = 0\n",
    "MAX_CONSECUTIVE = 100\n",
    "\n",
    "df = pd.DataFrame(columns=['file', 'collision', 'xmin', 'xmax', 'ymin', 'ymax', 'zmin', 'zmax'])\n",
    "\n",
    "\n",
    "print(f'Processing video \"{VIDEO_NAME}\" that is {fps} fps')\n",
    "\n",
    "while True:\n",
    "        \n",
    "    flag, frame = video.read()    \n",
    "    if flag:\n",
    "        # The frame is ready and already captured\n",
    "        last_pos_frame = pos_frame = video.get(cv2.CAP_PROP_POS_FRAMES) # get frame counter\n",
    "        \n",
    "        time_elapsed = round((pos_frame / fps ) ,2)# this calculates the time elapsed in second        \n",
    "        \n",
    "        curr_frame_name = generate_framename(video_number, int(pos_frame))\n",
    "        isCollision = False\n",
    "        for index, val in enumerate(start_times):\n",
    "            \n",
    "            if between(val,time_elapsed,end_times[index]):\n",
    "                vec = escape_vectors[index].split(' ')\n",
    "                new_row = {\n",
    "                    'file' : curr_frame_name,\n",
    "                    'collision': 1, \n",
    "                    'xmin': vec[0],\n",
    "                    'xmax': vec[1], \n",
    "                    'ymin': vec[2],\n",
    "                    'ymax': vec[3],\n",
    "                    'zmin': vec[4],\n",
    "                    'zmax': vec[5]\n",
    "                }\n",
    "                isCollision = True\n",
    "            else:\n",
    "                new_row = {\n",
    "                    'file' : curr_frame_name,\n",
    "                    'collision': 0, \n",
    "                    'xmin': 0,\n",
    "                    'xmax': 0, \n",
    "                    'ymin': 0,\n",
    "                    'ymax': 0, \n",
    "                    'zmin': 0, \n",
    "                    'zmax': 0\n",
    "                }\n",
    "                \n",
    "        isSaveData = True\n",
    "            \n",
    "        if isCollision:\n",
    "            print(f'Frame {pos_frame} at time {time_elapsed} s -> Collision')\n",
    "            consecutive_counter += 1\n",
    "            if consecutive_counter > MAX_CONSECUTIVE:\n",
    "                print(f'Too much consecutive found ({consecutive_counter}), jump to the next frame and ignore this one.')\n",
    "                isSaveData = False\n",
    "        else:\n",
    "            print(f'Frame {pos_frame} at time {time_elapsed} s -> NO collision')\n",
    "            consecutive_counter = 0\n",
    "        \n",
    "        if isSaveData:             \n",
    "            df = df.append(new_row, ignore_index=True)\n",
    "            resized_frame = cv2.resize(frame, DIM, interpolation = cv2.INTER_AREA)\n",
    "            # save image to file\n",
    "            cv2.imwrite(f\"./images/{curr_frame_name}.png\", resized_frame) \n",
    "            # plot image\n",
    "            plt.imshow(resized_frame) # plot/display current frame\n",
    "            plt.pause(0.05) # give some time to matplot\n",
    "            plt.show() # force display inside the loop\n",
    "\n",
    "        \n",
    "    #### THE CODE BELLOW IS JUST FOR HANDLING VIDEO NONSENSES...\n",
    "    else:\n",
    "        # The next frame is not ready, so we try to read it again\n",
    "        video.set(cv2.CAP_PROP_POS_FRAMES, pos_frame-1)\n",
    "        # It is better to wait for a while for the next frame to be ready\n",
    "        cv2.waitKey(1000)\n",
    "        if last_pos_frame == pos_frame:\n",
    "            stop_loop_by_not_ready += 1 # increment loop not ready counter\n",
    "        else:\n",
    "            stop_loop_by_not_ready = 0 # reset loop not ready counter\n",
    "\n",
    "        print(f\"frame is not ready, counter is at {stop_loop_by_not_ready}\")\n",
    "\n",
    "\n",
    "    if stop_loop_by_not_ready >= MAX_STOP_LOOP_COUNTER:\n",
    "        # for some reason, sometimes it was not stopping. This if enforces that stop\n",
    "        print(f\"Interruped because last_pos_frame == pos_frame with value pos_frame= {last_pos_frame}\")\n",
    "        break\n",
    "    if cv2.waitKey(10) == 27:\n",
    "        break\n",
    "    if video.get(cv2.CAP_PROP_POS_FRAMES) == video.get(cv2.CAP_PROP_FRAME_COUNT):\n",
    "        # If the number of captured frames is equal to the total number of frames,\n",
    "        # we stop\n",
    "        break\n",
    "        \n",
    "        \n",
    "# dropping duplicate values \n",
    "df.drop_duplicates(keep='first',inplace=True)\n",
    "df.to_excel(f'dataframes/{out_videoname}.xlsx',index=False)  "
   ]
  },
  {
   "cell_type": "markdown",
   "metadata": {},
   "source": [
    "### Finally print the DataFrame df generated.\n",
    "#### Note : the file images were saved under ./images "
   ]
  },
  {
   "cell_type": "code",
   "execution_count": null,
   "metadata": {},
   "outputs": [],
   "source": [
    "df"
   ]
  },
  {
   "cell_type": "code",
   "execution_count": null,
   "metadata": {},
   "outputs": [],
   "source": []
  }
 ],
 "metadata": {
  "kernelspec": {
   "display_name": "Python 3",
   "language": "python",
   "name": "python3"
  },
  "language_info": {
   "codemirror_mode": {
    "name": "ipython",
    "version": 3
   },
   "file_extension": ".py",
   "mimetype": "text/x-python",
   "name": "python",
   "nbconvert_exporter": "python",
   "pygments_lexer": "ipython3",
   "version": "3.9.18"
  }
 },
 "nbformat": 4,
 "nbformat_minor": 2
}
